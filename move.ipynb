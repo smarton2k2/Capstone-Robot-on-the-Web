{
 "cells": [
  {
   "cell_type": "code",
   "execution_count": 1,
   "metadata": {},
   "outputs": [],
   "source": [
    "from pyniryo import *"
   ]
  },
  {
   "cell_type": "code",
   "execution_count": 5,
   "metadata": {},
   "outputs": [
    {
     "name": "stdout",
     "output_type": "stream",
     "text": [
      "\n",
      "Connected to server (169.254.200.200) on port: 40001\n",
      "\n"
     ]
    }
   ],
   "source": [
    "robot = NiryoRobot('169.254.200.200')"
   ]
  },
  {
   "cell_type": "code",
   "execution_count": 6,
   "metadata": {},
   "outputs": [],
   "source": [
    "robot.calibrate_auto()"
   ]
  },
  {
   "cell_type": "code",
   "execution_count": 7,
   "metadata": {},
   "outputs": [],
   "source": [
    "robot.move_to_home_pose()"
   ]
  },
  {
   "cell_type": "code",
   "execution_count": 8,
   "metadata": {},
   "outputs": [],
   "source": [
    "robot.set_jog_control(True)"
   ]
  },
  {
   "cell_type": "code",
   "execution_count": 9,
   "metadata": {},
   "outputs": [],
   "source": [
    "pose1 = PoseObject(x = 0.28, y = 0.2, z = 0.1, roll = -0.1, pitch = 0.1, yaw = -0.05)\n",
    "pose2 = PoseObject(x = 0.28, y = 0.2, z = 0.4, roll = -0.1, pitch = 0.1, yaw = -0.05)\n",
    "pose3 = PoseObject(x = 0.28, y = -0.2, z = 0.4, roll = -0.1, pitch = 0.1, yaw = -0.05)\n",
    "pose4 = PoseObject(x = 0.28, y = -0.2, z = 0.1, roll = -0.1, pitch = 0.1, yaw = -0.05)"
   ]
  },
  {
   "cell_type": "code",
   "execution_count": 15,
   "metadata": {},
   "outputs": [],
   "source": [
    "pose = robot.get_pose()\n",
    "pose\n",
    "pose_arr=[pose1, pose2, pose3, pose4]\n",
    "pos=[]"
   ]
  },
  {
   "cell_type": "code",
   "execution_count": 20,
   "metadata": {},
   "outputs": [
    {
     "ename": "TypeError",
     "evalue": "PoseObject.__init__() missing 6 required positional arguments: 'x', 'y', 'z', 'roll', 'pitch', and 'yaw'",
     "output_type": "error",
     "traceback": [
      "\u001b[1;31m---------------------------------------------------------------------------\u001b[0m",
      "\u001b[1;31mTypeError\u001b[0m                                 Traceback (most recent call last)",
      "Cell \u001b[1;32mIn[20], line 4\u001b[0m\n\u001b[0;32m      2\u001b[0m robot\u001b[39m.\u001b[39mmove_pose(pose_arr[i])\n\u001b[0;32m      3\u001b[0m \u001b[39mwhile\u001b[39;00m \u001b[39mTrue\u001b[39;00m: \n\u001b[1;32m----> 4\u001b[0m     pose \u001b[39m=\u001b[39m robot\u001b[39m.\u001b[39;49mpose\u001b[39m.\u001b[39mto_list()\n\u001b[0;32m      5\u001b[0m     \u001b[39mif\u001b[39;00m pose\u001b[39m!=\u001b[39mpose_arr[i]:\n\u001b[0;32m      6\u001b[0m         pos\u001b[39m.\u001b[39mappend(pose)\n",
      "File \u001b[1;32m~\\AppData\\Roaming\\Python\\Python310\\site-packages\\pyniryo\\api\\tcp_client.py:393\u001b[0m, in \u001b[0;36mNiryoRobot.pose\u001b[1;34m(self)\u001b[0m\n\u001b[0;32m    391\u001b[0m \u001b[39m@property\u001b[39m\n\u001b[0;32m    392\u001b[0m \u001b[39mdef\u001b[39;00m \u001b[39mpose\u001b[39m(\u001b[39mself\u001b[39m):\n\u001b[1;32m--> 393\u001b[0m     \u001b[39mreturn\u001b[39;00m \u001b[39mself\u001b[39;49m\u001b[39m.\u001b[39;49mget_pose()\n",
      "File \u001b[1;32m~\\AppData\\Roaming\\Python\\Python310\\site-packages\\pyniryo\\api\\tcp_client.py:408\u001b[0m, in \u001b[0;36mNiryoRobot.get_pose\u001b[1;34m(self)\u001b[0m\n\u001b[0;32m    406\u001b[0m data \u001b[39m=\u001b[39m \u001b[39mself\u001b[39m\u001b[39m.\u001b[39m__send_n_receive(Command\u001b[39m.\u001b[39mGET_POSE)\n\u001b[0;32m    407\u001b[0m pose_array \u001b[39m=\u001b[39m \u001b[39mself\u001b[39m\u001b[39m.\u001b[39m__map_list(data, \u001b[39mfloat\u001b[39m)\n\u001b[1;32m--> 408\u001b[0m pose_object \u001b[39m=\u001b[39m PoseObject(\u001b[39m*\u001b[39;49mpose_array)\n\u001b[0;32m    409\u001b[0m \u001b[39mreturn\u001b[39;00m pose_object\n",
      "\u001b[1;31mTypeError\u001b[0m: PoseObject.__init__() missing 6 required positional arguments: 'x', 'y', 'z', 'roll', 'pitch', and 'yaw'"
     ]
    }
   ],
   "source": [
    "for i in range(4):\n",
    "    robot.move_pose(pose_arr[i])\n",
    "    while True: \n",
    "        pose = robot.pose.to_list()\n",
    "        if pose!=pose_arr[i]:\n",
    "            pos.append(pose)\n",
    "        if pose==pose_arr[i]:\n",
    "            break\n"
   ]
  },
  {
   "cell_type": "code",
   "execution_count": 21,
   "metadata": {},
   "outputs": [
    {
     "name": "stdout",
     "output_type": "stream",
     "text": [
      "\n",
      "Disconnected from robot\n",
      "\n"
     ]
    }
   ],
   "source": [
    "robot.close_connection()"
   ]
  },
  {
   "cell_type": "code",
   "execution_count": null,
   "metadata": {},
   "outputs": [],
   "source": []
  }
 ],
 "metadata": {
  "kernelspec": {
   "display_name": "base",
   "language": "python",
   "name": "python3"
  },
  "language_info": {
   "codemirror_mode": {
    "name": "ipython",
    "version": 3
   },
   "file_extension": ".py",
   "mimetype": "text/x-python",
   "name": "python",
   "nbconvert_exporter": "python",
   "pygments_lexer": "ipython3",
   "version": "3.10.10"
  },
  "orig_nbformat": 4
 },
 "nbformat": 4,
 "nbformat_minor": 2
}
