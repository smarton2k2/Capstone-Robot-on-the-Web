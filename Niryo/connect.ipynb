{
 "cells": [
  {
   "cell_type": "code",
   "execution_count": 15,
   "metadata": {},
   "outputs": [],
   "source": [
    "from pyniryo import *\n",
    "import pygame\n",
    "import numpy as np\n",
    "import time"
   ]
  },
  {
   "cell_type": "code",
   "execution_count": 16,
   "metadata": {},
   "outputs": [],
   "source": [
    "robot_ip_address = \"10.10.10.10\"\n",
    "screen_size = (640, 480)\n",
    "screen_title = 'Niryo Robot Control'\n",
    "# robot_ip_address = \"169.254.200.200\""
   ]
  },
  {
   "cell_type": "code",
   "execution_count": 17,
   "metadata": {},
   "outputs": [],
   "source": [
    "screen = pygame.display.set_mode(screen_size)\n",
    "pygame.display.set_caption(screen_title)"
   ]
  },
  {
   "cell_type": "code",
   "execution_count": 18,
   "metadata": {},
   "outputs": [
    {
     "name": "stdout",
     "output_type": "stream",
     "text": [
      "\n",
      "Connected to server (10.10.10.10) on port: 40001\n",
      "\n"
     ]
    }
   ],
   "source": [
    "robot = NiryoRobot(robot_ip_address)"
   ]
  },
  {
   "cell_type": "code",
   "execution_count": 19,
   "metadata": {},
   "outputs": [],
   "source": [
    "robot.calibrate_auto()"
   ]
  },
  {
   "cell_type": "code",
   "execution_count": 20,
   "metadata": {},
   "outputs": [],
   "source": [
    "move_speed = 0.1\n",
    "rot_speed = 0.2"
   ]
  },
  {
   "cell_type": "code",
   "execution_count": 21,
   "metadata": {},
   "outputs": [],
   "source": [
    "robot.move_to_home_pose()"
   ]
  },
  {
   "cell_type": "code",
   "execution_count": 8,
   "metadata": {},
   "outputs": [
    {
     "data": {
      "text/plain": [
       "x = 0.1339, y = 0.0001, z = 0.1647\n",
       "roll = -0.001, pitch = 1.001, yaw = 0.001"
      ]
     },
     "execution_count": 8,
     "metadata": {},
     "output_type": "execute_result"
    }
   ],
   "source": [
    "pose = robot.get_pose()\n",
    "pose"
   ]
  },
  {
   "cell_type": "code",
   "execution_count": 23,
   "metadata": {},
   "outputs": [
    {
     "ename": "NiryoRobotException",
     "evalue": "Command KO : An error occured while executing the last command : Goal has been aborted : x not in range ( -0.5 , 0.5 )",
     "output_type": "error",
     "traceback": [
      "\u001b[1;31m---------------------------------------------------------------------------\u001b[0m",
      "\u001b[1;31mNiryoRobotException\u001b[0m                       Traceback (most recent call last)",
      "\u001b[1;32md:\\My Documents\\GIT Projects\\Capstone-Robot-on-the-Web\\Niryo\\connect.ipynb Cell 9\u001b[0m in \u001b[0;36m<cell line: 2>\u001b[1;34m()\u001b[0m\n\u001b[0;32m      <a href='vscode-notebook-cell:/d%3A/My%20Documents/GIT%20Projects/Capstone-Robot-on-the-Web/Niryo/connect.ipynb#X22sZmlsZQ%3D%3D?line=8'>9</a>\u001b[0m \u001b[39mif\u001b[39;00m keys[pygame\u001b[39m.\u001b[39mK_w]:\n\u001b[0;32m     <a href='vscode-notebook-cell:/d%3A/My%20Documents/GIT%20Projects/Capstone-Robot-on-the-Web/Niryo/connect.ipynb#X22sZmlsZQ%3D%3D?line=9'>10</a>\u001b[0m     pose\u001b[39m.\u001b[39mx \u001b[39m+\u001b[39m\u001b[39m=\u001b[39m\u001b[39m0.075\u001b[39m\n\u001b[1;32m---> <a href='vscode-notebook-cell:/d%3A/My%20Documents/GIT%20Projects/Capstone-Robot-on-the-Web/Niryo/connect.ipynb#X22sZmlsZQ%3D%3D?line=10'>11</a>\u001b[0m     robot\u001b[39m.\u001b[39;49mmove_pose(pose)\n\u001b[0;32m     <a href='vscode-notebook-cell:/d%3A/My%20Documents/GIT%20Projects/Capstone-Robot-on-the-Web/Niryo/connect.ipynb#X22sZmlsZQ%3D%3D?line=11'>12</a>\u001b[0m \u001b[39mif\u001b[39;00m keys[pygame\u001b[39m.\u001b[39mK_s]:\n\u001b[0;32m     <a href='vscode-notebook-cell:/d%3A/My%20Documents/GIT%20Projects/Capstone-Robot-on-the-Web/Niryo/connect.ipynb#X22sZmlsZQ%3D%3D?line=12'>13</a>\u001b[0m     pose\u001b[39m.\u001b[39mx \u001b[39m-\u001b[39m\u001b[39m=\u001b[39m\u001b[39m0.075\u001b[39m\n",
      "File \u001b[1;32mc:\\Users\\harig\\AppData\\Local\\Programs\\Python\\Python39\\lib\\site-packages\\pyniryo\\api\\tcp_client.py:472\u001b[0m, in \u001b[0;36mNiryoRobot.move_pose\u001b[1;34m(self, *args)\u001b[0m\n\u001b[0;32m    470\u001b[0m \u001b[39melse\u001b[39;00m:\n\u001b[0;32m    471\u001b[0m     pose_list \u001b[39m=\u001b[39m \u001b[39mlist\u001b[39m(\u001b[39mself\u001b[39m\u001b[39m.\u001b[39m__args_pose_to_list(\u001b[39m*\u001b[39margs)) \u001b[39m+\u001b[39m [\u001b[39m'\u001b[39m\u001b[39m'\u001b[39m]\n\u001b[1;32m--> 472\u001b[0m \u001b[39mself\u001b[39;49m\u001b[39m.\u001b[39;49m__send_n_receive(Command\u001b[39m.\u001b[39;49mMOVE_POSE, \u001b[39m*\u001b[39;49mpose_list)\n",
      "File \u001b[1;32mc:\\Users\\harig\\AppData\\Local\\Programs\\Python\\Python39\\lib\\site-packages\\pyniryo\\api\\tcp_client.py:152\u001b[0m, in \u001b[0;36mNiryoRobot.__send_n_receive\u001b[1;34m(self, command_type, *parameter_list, **kwargs)\u001b[0m\n\u001b[0;32m    149\u001b[0m with_payload \u001b[39m=\u001b[39m kwargs\u001b[39m.\u001b[39mget(\u001b[39m\"\u001b[39m\u001b[39mwith_payload\u001b[39m\u001b[39m\"\u001b[39m, \u001b[39mFalse\u001b[39;00m)\n\u001b[0;32m    151\u001b[0m \u001b[39mself\u001b[39m\u001b[39m.\u001b[39m__send_command(command_type, \u001b[39m*\u001b[39mparameter_list)\n\u001b[1;32m--> 152\u001b[0m \u001b[39mreturn\u001b[39;00m \u001b[39mself\u001b[39;49m\u001b[39m.\u001b[39;49m__receive_answer(with_payload\u001b[39m=\u001b[39;49mwith_payload)\n",
      "File \u001b[1;32mc:\\Users\\harig\\AppData\\Local\\Programs\\Python\\Python39\\lib\\site-packages\\pyniryo\\api\\tcp_client.py:138\u001b[0m, in \u001b[0;36mNiryoRobot.__receive_answer\u001b[1;34m(self, with_payload)\u001b[0m\n\u001b[0;32m    136\u001b[0m     \u001b[39mraise\u001b[39;00m InvalidAnswerException(answer_status)\n\u001b[0;32m    137\u001b[0m \u001b[39mif\u001b[39;00m received_dict[\u001b[39m\"\u001b[39m\u001b[39mstatus\u001b[39m\u001b[39m\"\u001b[39m] \u001b[39m!=\u001b[39m \u001b[39m\"\u001b[39m\u001b[39mOK\u001b[39m\u001b[39m\"\u001b[39m:\n\u001b[1;32m--> 138\u001b[0m     \u001b[39mraise\u001b[39;00m NiryoRobotException(\u001b[39m\"\u001b[39m\u001b[39mCommand KO : \u001b[39m\u001b[39m{}\u001b[39;00m\u001b[39m\"\u001b[39m\u001b[39m.\u001b[39mformat(received_dict[\u001b[39m\"\u001b[39m\u001b[39mmessage\u001b[39m\u001b[39m\"\u001b[39m]))\n\u001b[0;32m    139\u001b[0m list_ret_param \u001b[39m=\u001b[39m received_dict[\u001b[39m\"\u001b[39m\u001b[39mlist_ret_param\u001b[39m\u001b[39m\"\u001b[39m]\n\u001b[0;32m    140\u001b[0m \u001b[39mif\u001b[39;00m \u001b[39mlen\u001b[39m(list_ret_param) \u001b[39m==\u001b[39m \u001b[39m1\u001b[39m:\n",
      "\u001b[1;31mNiryoRobotException\u001b[0m: Command KO : An error occured while executing the last command : Goal has been aborted : x not in range ( -0.5 , 0.5 )"
     ]
    }
   ],
   "source": [
    "done = False\n",
    "while not done:\n",
    "    for event in pygame.event.get():\n",
    "        if event.type == pygame.QUIT:\n",
    "            done = True\n",
    "    pose = robot.get_pose()\n",
    "    # Get the current state of the WASD keys\n",
    "    keys = pygame.key.get_pressed()\n",
    "    if keys[pygame.K_w]:\n",
    "        pose.x +=0.075\n",
    "        robot.move_pose(pose)\n",
    "    if keys[pygame.K_s]:\n",
    "        pose.x -=0.075\n",
    "        robot.move_pose(pose)\n",
    "    if keys[pygame.K_a]:\n",
    "        pose.y +=0.075\n",
    "        robot.move_pose(pose)    \n",
    "    if keys[pygame.K_d]:\n",
    "        pose.y -=0.075\n",
    "        robot.move_pose(pose)\n",
    "    if keys[pygame.K_SPACE]:\n",
    "        pose.z +=0.075\n",
    "        robot.move_pose(pose)\n",
    "    if keys[pygame.K_LCTRL]:\n",
    "        pose.z -=0.075\n",
    "        robot.move_pose(pose)\n",
    "    if keys[pygame.K_q]:\n",
    "        pose.roll -=0.5\n",
    "        robot.move_pose(pose)\n",
    "    if keys[pygame.K_e]:\n",
    "        pose.roll +=0.5\n",
    "        robot.move_pose(pose)\n",
    "    if keys[pygame.K_o]:\n",
    "        robot.open_gripper(speed=500)\n",
    "    if keys[pygame.K_p]:\n",
    "        robot.close_gripper(speed=500)\n",
    "    # Update the screen\n",
    "    screen.fill((255, 255, 255))\n",
    "    pygame.display.update()\n",
    "\n",
    "    # Wait for a short period of time to avoid overloading the robot with commands\n",
    "    time.sleep(0.01)"
   ]
  },
  {
   "cell_type": "code",
   "execution_count": 14,
   "metadata": {},
   "outputs": [
    {
     "name": "stdout",
     "output_type": "stream",
     "text": [
      "\n",
      "Disconnected from robot\n",
      "\n"
     ]
    }
   ],
   "source": [
    "robot.close_connection()"
   ]
  },
  {
   "cell_type": "code",
   "execution_count": 16,
   "metadata": {},
   "outputs": [],
   "source": [
    "base_model = PoseObject(\n",
    "x=0.5, y=0, z=0.25,\n",
    "roll=-0, pitch=0, yaw=0\n",
    ")\n",
    "robot.move_pose(base_model)"
   ]
  },
  {
   "cell_type": "code",
   "execution_count": null,
   "metadata": {},
   "outputs": [
    {
     "data": {
      "text/plain": [
       "[-0.0007288597570993538,\n",
       " -1.2958018047396962,\n",
       " 1.2672217058481852,\n",
       " -0.0014413271980928677,\n",
       " 0.029052981380034204,\n",
       " 0.0016266343776782932]"
      ]
     },
     "execution_count": 57,
     "metadata": {},
     "output_type": "execute_result"
    }
   ],
   "source": [
    "robot.get_joints()"
   ]
  },
  {
   "cell_type": "code",
   "execution_count": 13,
   "metadata": {},
   "outputs": [],
   "source": [
    "robot.move_joints(0, 0, 0, 0, 0, 0)"
   ]
  },
  {
   "cell_type": "code",
   "execution_count": null,
   "metadata": {},
   "outputs": [],
   "source": [
    "robot.get_pose()"
   ]
  },
  {
   "cell_type": "code",
   "execution_count": null,
   "metadata": {},
   "outputs": [],
   "source": [
    "robot.update_tool()"
   ]
  },
  {
   "cell_type": "code",
   "execution_count": 8,
   "metadata": {},
   "outputs": [],
   "source": [
    "robot.close_gripper(speed=500)"
   ]
  },
  {
   "cell_type": "code",
   "execution_count": 20,
   "metadata": {},
   "outputs": [],
   "source": [
    "robot.open_gripper(speed=500)"
   ]
  },
  {
   "cell_type": "code",
   "execution_count": 8,
   "metadata": {},
   "outputs": [],
   "source": [
    "pick_pose = PoseObject(\n",
    "x=0.1, y=0.2, z=0.4,\n",
    "roll=0, pitch=0, yaw=0\n",
    ")\n",
    "\n",
    "robot.move_pose(pick_pose)\n",
    "# robot.move_pose(pick_pose)\n"
   ]
  },
  {
   "cell_type": "code",
   "execution_count": 21,
   "metadata": {},
   "outputs": [
    {
     "data": {
      "text/plain": [
       "[-0.0007288597570993538,\n",
       " 0.49940895727663126,\n",
       " -1.2506181983468665,\n",
       " 9.265358979293481e-05,\n",
       " -0.0031606151655640957,\n",
       " 0.0016266343776782932]"
      ]
     },
     "execution_count": 21,
     "metadata": {},
     "output_type": "execute_result"
    }
   ],
   "source": [
    "joints_read = robot.get_joints()\n",
    "joints_read"
   ]
  },
  {
   "cell_type": "code",
   "execution_count": null,
   "metadata": {},
   "outputs": [],
   "source": []
  }
 ],
 "metadata": {
  "kernelspec": {
   "display_name": "Python 3",
   "language": "python",
   "name": "python3"
  },
  "language_info": {
   "codemirror_mode": {
    "name": "ipython",
    "version": 3
   },
   "file_extension": ".py",
   "mimetype": "text/x-python",
   "name": "python",
   "nbconvert_exporter": "python",
   "pygments_lexer": "ipython3",
   "version": "3.9.13"
  },
  "orig_nbformat": 4
 },
 "nbformat": 4,
 "nbformat_minor": 2
}
