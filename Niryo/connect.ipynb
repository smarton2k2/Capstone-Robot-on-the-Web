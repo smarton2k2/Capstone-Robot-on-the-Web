{
 "cells": [
  {
   "cell_type": "code",
   "execution_count": 1,
   "metadata": {},
   "outputs": [
    {
     "name": "stdout",
     "output_type": "stream",
     "text": [
      "pygame 2.5.1 (SDL 2.28.2, Python 3.9.13)\n",
      "Hello from the pygame community. https://www.pygame.org/contribute.html\n"
     ]
    }
   ],
   "source": [
    "from pyniryo import *\n",
    "import pygame\n",
    "import numpy as np\n",
    "import time\n",
    "import math\n",
    "import threading\n",
    "from azure.iot.device import IoTHubDeviceClient, Message\n",
    "import json\n",
    "import time"
   ]
  },
  {
   "cell_type": "code",
   "execution_count": 2,
   "metadata": {},
   "outputs": [],
   "source": [
    "# robot_ip_address = \"169.254.200.200\"\n",
    "robot_ip_address = \"10.10.10.10\"\n",
    "screen_size = (640, 480)\n",
    "screen_title = 'Niryo Robot Control'"
   ]
  },
  {
   "cell_type": "code",
   "execution_count": 4,
   "metadata": {},
   "outputs": [],
   "source": [
    "screen = pygame.display.set_mode(screen_size)\n",
    "pygame.display.set_caption(screen_title)"
   ]
  },
  {
   "cell_type": "code",
   "execution_count": 3,
   "metadata": {},
   "outputs": [
    {
     "name": "stdout",
     "output_type": "stream",
     "text": [
      "\n",
      "Connected to server (10.10.10.10) on port: 40001\n",
      "\n"
     ]
    }
   ],
   "source": [
    "robot = NiryoRobot(robot_ip_address)"
   ]
  },
  {
   "cell_type": "code",
   "execution_count": 5,
   "metadata": {},
   "outputs": [],
   "source": [
    "robot.calibrate_auto()"
   ]
  },
  {
   "cell_type": "code",
   "execution_count": 6,
   "metadata": {},
   "outputs": [],
   "source": [
    "move_speed = 0.1\n",
    "rot_speed = 0.2"
   ]
  },
  {
   "cell_type": "code",
   "execution_count": 7,
   "metadata": {},
   "outputs": [],
   "source": [
    "robot.move_to_home_pose()"
   ]
  },
  {
   "cell_type": "code",
   "execution_count": 8,
   "metadata": {},
   "outputs": [
    {
     "ename": "ConnectionFailedError",
     "evalue": "ConnectionFailedError('Could not connect to IoTHub') caused by ConnectionFailedError(None)",
     "output_type": "error",
     "traceback": [
      "\u001b[1;31m---------------------------------------------------------------------------\u001b[0m",
      "\u001b[1;31mgaierror\u001b[0m                                  Traceback (most recent call last)",
      "File \u001b[1;32mc:\\Users\\harig\\AppData\\Local\\Programs\\Python\\Python39\\lib\\site-packages\\azure\\iot\\device\\common\\mqtt_transport.py:394\u001b[0m, in \u001b[0;36mMQTTTransport.connect\u001b[1;34m(self, password)\u001b[0m\n\u001b[0;32m    393\u001b[0m         logger\u001b[39m.\u001b[39minfo(\u001b[39m\"\u001b[39m\u001b[39mConnect using port 8883 (TCP)\u001b[39m\u001b[39m\"\u001b[39m)\n\u001b[1;32m--> 394\u001b[0m         rc \u001b[39m=\u001b[39m \u001b[39mself\u001b[39;49m\u001b[39m.\u001b[39;49m_mqtt_client\u001b[39m.\u001b[39;49mconnect(\n\u001b[0;32m    395\u001b[0m             host\u001b[39m=\u001b[39;49m\u001b[39mself\u001b[39;49m\u001b[39m.\u001b[39;49m_hostname, port\u001b[39m=\u001b[39;49m\u001b[39m8883\u001b[39;49m, keepalive\u001b[39m=\u001b[39;49m\u001b[39mself\u001b[39;49m\u001b[39m.\u001b[39;49m_keep_alive\n\u001b[0;32m    396\u001b[0m         )\n\u001b[0;32m    397\u001b[0m \u001b[39mexcept\u001b[39;00m socket\u001b[39m.\u001b[39merror \u001b[39mas\u001b[39;00m e:\n",
      "File \u001b[1;32mc:\\Users\\harig\\AppData\\Local\\Programs\\Python\\Python39\\lib\\site-packages\\paho\\mqtt\\client.py:914\u001b[0m, in \u001b[0;36mClient.connect\u001b[1;34m(self, host, port, keepalive, bind_address, bind_port, clean_start, properties)\u001b[0m\n\u001b[0;32m    912\u001b[0m \u001b[39mself\u001b[39m\u001b[39m.\u001b[39mconnect_async(host, port, keepalive,\n\u001b[0;32m    913\u001b[0m                    bind_address, bind_port, clean_start, properties)\n\u001b[1;32m--> 914\u001b[0m \u001b[39mreturn\u001b[39;00m \u001b[39mself\u001b[39;49m\u001b[39m.\u001b[39;49mreconnect()\n",
      "File \u001b[1;32mc:\\Users\\harig\\AppData\\Local\\Programs\\Python\\Python39\\lib\\site-packages\\paho\\mqtt\\client.py:1044\u001b[0m, in \u001b[0;36mClient.reconnect\u001b[1;34m(self)\u001b[0m\n\u001b[0;32m   1042\u001b[0m \u001b[39mself\u001b[39m\u001b[39m.\u001b[39m_messages_reconnect_reset()\n\u001b[1;32m-> 1044\u001b[0m sock \u001b[39m=\u001b[39m \u001b[39mself\u001b[39;49m\u001b[39m.\u001b[39;49m_create_socket_connection()\n\u001b[0;32m   1046\u001b[0m \u001b[39mif\u001b[39;00m \u001b[39mself\u001b[39m\u001b[39m.\u001b[39m_ssl:\n\u001b[0;32m   1047\u001b[0m     \u001b[39m# SSL is only supported when SSLContext is available (implies Python >= 2.7.9 or >= 3.2)\u001b[39;00m\n",
      "File \u001b[1;32mc:\\Users\\harig\\AppData\\Local\\Programs\\Python\\Python39\\lib\\site-packages\\paho\\mqtt\\client.py:3685\u001b[0m, in \u001b[0;36mClient._create_socket_connection\u001b[1;34m(self)\u001b[0m\n\u001b[0;32m   3684\u001b[0m \u001b[39melse\u001b[39;00m:\n\u001b[1;32m-> 3685\u001b[0m     \u001b[39mreturn\u001b[39;00m socket\u001b[39m.\u001b[39;49mcreate_connection(addr, timeout\u001b[39m=\u001b[39;49m\u001b[39mself\u001b[39;49m\u001b[39m.\u001b[39;49m_connect_timeout, source_address\u001b[39m=\u001b[39;49msource)\n",
      "File \u001b[1;32mc:\\Users\\harig\\AppData\\Local\\Programs\\Python\\Python39\\lib\\socket.py:823\u001b[0m, in \u001b[0;36mcreate_connection\u001b[1;34m(address, timeout, source_address)\u001b[0m\n\u001b[0;32m    822\u001b[0m err \u001b[39m=\u001b[39m \u001b[39mNone\u001b[39;00m\n\u001b[1;32m--> 823\u001b[0m \u001b[39mfor\u001b[39;00m res \u001b[39min\u001b[39;00m getaddrinfo(host, port, \u001b[39m0\u001b[39;49m, SOCK_STREAM):\n\u001b[0;32m    824\u001b[0m     af, socktype, proto, canonname, sa \u001b[39m=\u001b[39m res\n",
      "File \u001b[1;32mc:\\Users\\harig\\AppData\\Local\\Programs\\Python\\Python39\\lib\\socket.py:954\u001b[0m, in \u001b[0;36mgetaddrinfo\u001b[1;34m(host, port, family, type, proto, flags)\u001b[0m\n\u001b[0;32m    953\u001b[0m addrlist \u001b[39m=\u001b[39m []\n\u001b[1;32m--> 954\u001b[0m \u001b[39mfor\u001b[39;00m res \u001b[39min\u001b[39;00m _socket\u001b[39m.\u001b[39;49mgetaddrinfo(host, port, family, \u001b[39mtype\u001b[39;49m, proto, flags):\n\u001b[0;32m    955\u001b[0m     af, socktype, proto, canonname, sa \u001b[39m=\u001b[39m res\n",
      "\u001b[1;31mgaierror\u001b[0m: [Errno 11002] getaddrinfo failed",
      "\nThe above exception was the direct cause of the following exception:\n",
      "\u001b[1;31mConnectionFailedError\u001b[0m                     Traceback (most recent call last)",
      "File \u001b[1;32mc:\\Users\\harig\\AppData\\Local\\Programs\\Python\\Python39\\lib\\site-packages\\azure\\iot\\device\\iothub\\sync_clients.py:34\u001b[0m, in \u001b[0;36mhandle_result\u001b[1;34m(callback)\u001b[0m\n\u001b[0;32m     33\u001b[0m \u001b[39mtry\u001b[39;00m:\n\u001b[1;32m---> 34\u001b[0m     \u001b[39mreturn\u001b[39;00m callback\u001b[39m.\u001b[39;49mwait_for_completion()\n\u001b[0;32m     35\u001b[0m \u001b[39mexcept\u001b[39;00m pipeline_exceptions\u001b[39m.\u001b[39mConnectionDroppedError \u001b[39mas\u001b[39;00m e:\n",
      "File \u001b[1;32mc:\\Users\\harig\\AppData\\Local\\Programs\\Python\\Python39\\lib\\site-packages\\azure\\iot\\device\\common\\evented_callback.py:70\u001b[0m, in \u001b[0;36mEventedCallback.wait_for_completion\u001b[1;34m(self, *args, **kwargs)\u001b[0m\n\u001b[0;32m     69\u001b[0m \u001b[39mif\u001b[39;00m \u001b[39mself\u001b[39m\u001b[39m.\u001b[39mexception:\n\u001b[1;32m---> 70\u001b[0m     \u001b[39mraise\u001b[39;00m \u001b[39mself\u001b[39m\u001b[39m.\u001b[39mexception\n\u001b[0;32m     71\u001b[0m \u001b[39melse\u001b[39;00m:\n",
      "File \u001b[1;32mc:\\Users\\harig\\AppData\\Local\\Programs\\Python\\Python39\\lib\\site-packages\\azure\\iot\\device\\common\\pipeline\\pipeline_stages_mqtt.py:193\u001b[0m, in \u001b[0;36mMQTTTransportStage._run_op\u001b[1;34m(self, op)\u001b[0m\n\u001b[0;32m    192\u001b[0m \u001b[39mtry\u001b[39;00m:\n\u001b[1;32m--> 193\u001b[0m     \u001b[39mself\u001b[39;49m\u001b[39m.\u001b[39;49mtransport\u001b[39m.\u001b[39;49mconnect(password\u001b[39m=\u001b[39;49mpassword)\n\u001b[0;32m    194\u001b[0m \u001b[39mexcept\u001b[39;00m \u001b[39mException\u001b[39;00m \u001b[39mas\u001b[39;00m e:\n",
      "File \u001b[1;32mc:\\Users\\harig\\AppData\\Local\\Programs\\Python\\Python39\\lib\\site-packages\\azure\\iot\\device\\common\\mqtt_transport.py:417\u001b[0m, in \u001b[0;36mMQTTTransport.connect\u001b[1;34m(self, password)\u001b[0m\n\u001b[0;32m    414\u001b[0m     \u001b[39melse\u001b[39;00m:\n\u001b[0;32m    415\u001b[0m         \u001b[39m# If the socket can't open (e.g. using iptables REJECT), we get a\u001b[39;00m\n\u001b[0;32m    416\u001b[0m         \u001b[39m# socket.error.  Convert this into ConnectionFailedError so we can retry\u001b[39;00m\n\u001b[1;32m--> 417\u001b[0m         \u001b[39mraise\u001b[39;00m exceptions\u001b[39m.\u001b[39mConnectionFailedError(cause\u001b[39m=\u001b[39me)\n\u001b[0;32m    419\u001b[0m \u001b[39mexcept\u001b[39;00m socks\u001b[39m.\u001b[39mProxyError \u001b[39mas\u001b[39;00m pe:\n",
      "\u001b[1;31mConnectionFailedError\u001b[0m: ConnectionFailedError(None) caused by gaierror(11002, 'getaddrinfo failed')",
      "\nThe above exception was the direct cause of the following exception:\n",
      "\u001b[1;31mConnectionFailedError\u001b[0m                     Traceback (most recent call last)",
      "\u001b[1;32md:\\My Documents\\GIT Projects\\Capstone-Robot-on-the-Web\\Niryo\\connect.ipynb Cell 8\u001b[0m line \u001b[0;36m<cell line: 3>\u001b[1;34m()\u001b[0m\n\u001b[0;32m      <a href='vscode-notebook-cell:/d%3A/My%20Documents/GIT%20Projects/Capstone-Robot-on-the-Web/Niryo/connect.ipynb#X10sZmlsZQ%3D%3D?line=0'>1</a>\u001b[0m device_connection_string \u001b[39m=\u001b[39m \u001b[39m\"\u001b[39m\u001b[39mHostName=Niryo.azure-devices.net;DeviceId=Niryo_Ned2;SharedAccessKey=SJaVvz+aGzioqBeIHg7Wj3zci0T1E683rNoYzPFQGPk=\u001b[39m\u001b[39m\"\u001b[39m\n\u001b[0;32m      <a href='vscode-notebook-cell:/d%3A/My%20Documents/GIT%20Projects/Capstone-Robot-on-the-Web/Niryo/connect.ipynb#X10sZmlsZQ%3D%3D?line=1'>2</a>\u001b[0m device_client \u001b[39m=\u001b[39m IoTHubDeviceClient\u001b[39m.\u001b[39mcreate_from_connection_string(device_connection_string)\n\u001b[1;32m----> <a href='vscode-notebook-cell:/d%3A/My%20Documents/GIT%20Projects/Capstone-Robot-on-the-Web/Niryo/connect.ipynb#X10sZmlsZQ%3D%3D?line=2'>3</a>\u001b[0m device_client\u001b[39m.\u001b[39;49mconnect()\n",
      "File \u001b[1;32mc:\\Users\\harig\\AppData\\Local\\Programs\\Python\\Python39\\lib\\site-packages\\azure\\iot\\device\\patch_documentation.py:20\u001b[0m, in \u001b[0;36mexecute_patch_for_sync.<locals>.connect\u001b[1;34m(self)\u001b[0m\n\u001b[0;32m     19\u001b[0m \u001b[39mdef\u001b[39;00m \u001b[39mconnect\u001b[39m(\u001b[39mself\u001b[39m):\n\u001b[1;32m---> 20\u001b[0m     \u001b[39mreturn\u001b[39;00m \u001b[39msuper\u001b[39;49m(IoTHubDeviceClient, \u001b[39mself\u001b[39;49m)\u001b[39m.\u001b[39;49mconnect()\n",
      "File \u001b[1;32mc:\\Users\\harig\\AppData\\Local\\Programs\\Python\\Python39\\lib\\site-packages\\azure\\iot\\device\\iothub\\sync_clients.py:194\u001b[0m, in \u001b[0;36mGenericIoTHubClient.connect\u001b[1;34m(self)\u001b[0m\n\u001b[0;32m    192\u001b[0m callback \u001b[39m=\u001b[39m EventedCallback()\n\u001b[0;32m    193\u001b[0m \u001b[39mself\u001b[39m\u001b[39m.\u001b[39m_mqtt_pipeline\u001b[39m.\u001b[39mconnect(callback\u001b[39m=\u001b[39mcallback)\n\u001b[1;32m--> 194\u001b[0m handle_result(callback)\n\u001b[0;32m    196\u001b[0m logger\u001b[39m.\u001b[39minfo(\u001b[39m\"\u001b[39m\u001b[39mSuccessfully connected to Hub\u001b[39m\u001b[39m\"\u001b[39m)\n",
      "File \u001b[1;32mc:\\Users\\harig\\AppData\\Local\\Programs\\Python\\Python39\\lib\\site-packages\\azure\\iot\\device\\iothub\\sync_clients.py:38\u001b[0m, in \u001b[0;36mhandle_result\u001b[1;34m(callback)\u001b[0m\n\u001b[0;32m     36\u001b[0m     \u001b[39mraise\u001b[39;00m exceptions\u001b[39m.\u001b[39mConnectionDroppedError(message\u001b[39m=\u001b[39m\u001b[39m\"\u001b[39m\u001b[39mLost connection to IoTHub\u001b[39m\u001b[39m\"\u001b[39m, cause\u001b[39m=\u001b[39me)\n\u001b[0;32m     37\u001b[0m \u001b[39mexcept\u001b[39;00m pipeline_exceptions\u001b[39m.\u001b[39mConnectionFailedError \u001b[39mas\u001b[39;00m e:\n\u001b[1;32m---> 38\u001b[0m     \u001b[39mraise\u001b[39;00m exceptions\u001b[39m.\u001b[39mConnectionFailedError(message\u001b[39m=\u001b[39m\u001b[39m\"\u001b[39m\u001b[39mCould not connect to IoTHub\u001b[39m\u001b[39m\"\u001b[39m, cause\u001b[39m=\u001b[39me)\n\u001b[0;32m     39\u001b[0m \u001b[39mexcept\u001b[39;00m pipeline_exceptions\u001b[39m.\u001b[39mUnauthorizedError \u001b[39mas\u001b[39;00m e:\n\u001b[0;32m     40\u001b[0m     \u001b[39mraise\u001b[39;00m exceptions\u001b[39m.\u001b[39mCredentialError(message\u001b[39m=\u001b[39m\u001b[39m\"\u001b[39m\u001b[39mCredentials invalid, could not connect\u001b[39m\u001b[39m\"\u001b[39m, cause\u001b[39m=\u001b[39me)\n",
      "\u001b[1;31mConnectionFailedError\u001b[0m: ConnectionFailedError('Could not connect to IoTHub') caused by ConnectionFailedError(None)"
     ]
    }
   ],
   "source": [
    "device_connection_string = \"HostName=Niryo.azure-devices.net;DeviceId=Niryo_Ned2;SharedAccessKey=SJaVvz+aGzioqBeIHg7Wj3zci0T1E683rNoYzPFQGPk=\"\n",
    "device_client = IoTHubDeviceClient.create_from_connection_string(device_connection_string)\n",
    "device_client.connect()"
   ]
  },
  {
   "cell_type": "code",
   "execution_count": 9,
   "metadata": {},
   "outputs": [
    {
     "name": "stdout",
     "output_type": "stream",
     "text": [
      "Error sending message to Azure IoT Hub: ConnectionFailedError('Could not connect to IoTHub') caused by ConnectionFailedError(None)\n",
      "Error sending message to Azure IoT Hub: ConnectionFailedError('Could not connect to IoTHub') caused by ConnectionFailedError(None)\n",
      "Error sending message to Azure IoT Hub: ConnectionFailedError('Could not connect to IoTHub') caused by ConnectionFailedError(None)\n",
      "Error sending message to Azure IoT Hub: ConnectionFailedError('Could not connect to IoTHub') caused by ConnectionFailedError(None)\n",
      "Error sending message to Azure IoT Hub: ConnectionFailedError('Could not connect to IoTHub') caused by ConnectionFailedError(None)\n"
     ]
    }
   ],
   "source": [
    "done = False\n",
    "joints = []\n",
    "previous_joints = None\n",
    "last_sent_time = 0\n",
    "message_interval = 2\n",
    "while not done:\n",
    "    for event in pygame.event.get():\n",
    "        if event.type == pygame.QUIT:\n",
    "            done = True\n",
    "    pose = robot.get_pose()\n",
    "    # Get the current state of the WASD keys\n",
    "    keys = pygame.key.get_pressed()\n",
    "    if keys[pygame.K_w]:\n",
    "        pose.x +=0.045\n",
    "        robot.move_pose(pose)\n",
    "        joints = robot.get_joints()\n",
    "    if keys[pygame.K_s]:\n",
    "        pose.x -=0.045\n",
    "        robot.move_pose(pose)\n",
    "        joints = robot.get_joints()\n",
    "    if keys[pygame.K_a]:\n",
    "        pose.y +=0.045\n",
    "        robot.move_pose(pose)\n",
    "        joints = robot.get_joints()\n",
    "    if keys[pygame.K_d]:\n",
    "        pose.y -=0.045\n",
    "        robot.move_pose(pose)\n",
    "        joints = robot.get_joints()\n",
    "    if keys[pygame.K_SPACE]:\n",
    "        pose.z +=0.045\n",
    "        robot.move_pose(pose)\n",
    "        joints = robot.get_joints()\n",
    "    if keys[pygame.K_LCTRL]:\n",
    "        pose.z -=0.045\n",
    "        robot.move_pose(pose)\n",
    "        joints = robot.get_joints()\n",
    "    if keys[pygame.K_q]:\n",
    "        pose.roll -=0.5\n",
    "        robot.move_pose(pose)\n",
    "        joints = robot.get_joints()\n",
    "    if keys[pygame.K_e]:\n",
    "        pose.roll +=0.5\n",
    "        robot.move_pose(pose)\n",
    "        joints = robot.get_joints()\n",
    "    if keys[pygame.K_o]:\n",
    "        robot.open_gripper(speed=500)\n",
    "        joints = robot.get_joints()\n",
    "    if keys[pygame.K_c]:\n",
    "        robot.close_gripper(speed=500)\n",
    "        joints = robot.get_joints()\n",
    "\n",
    "    current_time = time.time()\n",
    "    if joints != previous_joints and current_time - last_sent_time > message_interval:\n",
    "            try:\n",
    "                message = Message(json.dumps(joints))\n",
    "                device_client.send_message(message)\n",
    "                last_sent_time = current_time\n",
    "            except Exception as e:\n",
    "                print(f\"Error sending message to Azure IoT Hub: {e}\")\n",
    "            previous_joints = joints\n",
    "    \n",
    "    # Update the screen\n",
    "    screen.fill((255, 255, 255))\n",
    "    pygame.display.update()\n",
    "\n",
    "    # Wait for a short period of time to avoid overloading the robot with commands\n",
    "    time.sleep(0.01)"
   ]
  },
  {
   "cell_type": "code",
   "execution_count": 10,
   "metadata": {},
   "outputs": [
    {
     "name": "stdout",
     "output_type": "stream",
     "text": [
      "\n",
      "Disconnected from robot\n",
      "\n"
     ]
    },
    {
     "ename": "",
     "evalue": "",
     "output_type": "error",
     "traceback": [
      "\u001b[1;31mThe Kernel crashed while executing code in the the current cell or a previous cell. Please review the code in the cell(s) to identify a possible cause of the failure. Click <a href='https://aka.ms/vscodeJupyterKernelCrash'>here</a> for more info. View Jupyter <a href='command:jupyter.viewOutput'>log</a> for further details."
     ]
    }
   ],
   "source": [
    "robot.close_connection()\n",
    "device_client.disconnect()"
   ]
  },
  {
   "cell_type": "code",
   "execution_count": null,
   "metadata": {},
   "outputs": [],
   "source": []
  }
 ],
 "metadata": {
  "kernelspec": {
   "display_name": "Python 3",
   "language": "python",
   "name": "python3"
  },
  "language_info": {
   "codemirror_mode": {
    "name": "ipython",
    "version": 3
   },
   "file_extension": ".py",
   "mimetype": "text/x-python",
   "name": "python",
   "nbconvert_exporter": "python",
   "pygments_lexer": "ipython3",
   "version": "3.9.13"
  },
  "orig_nbformat": 4
 },
 "nbformat": 4,
 "nbformat_minor": 2
}
