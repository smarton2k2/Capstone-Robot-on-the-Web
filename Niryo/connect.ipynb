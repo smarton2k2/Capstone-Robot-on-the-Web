{
 "cells": [
  {
   "cell_type": "code",
   "execution_count": 1,
   "metadata": {},
   "outputs": [
    {
     "name": "stdout",
     "output_type": "stream",
     "text": [
      "pygame 2.4.0 (SDL 2.26.4, Python 3.10.10)\n",
      "Hello from the pygame community. https://www.pygame.org/contribute.html\n"
     ]
    }
   ],
   "source": [
    "from pyniryo import *\n",
    "import pygame\n",
    "import numpy as np\n",
    "import time\n",
    "import math\n",
    "import threading"
   ]
  },
  {
   "cell_type": "code",
   "execution_count": 2,
   "metadata": {},
   "outputs": [],
   "source": [
    "robot_ip_address = \"169.254.200.200\"\n",
    "screen_size = (640, 480)\n",
    "screen_title = 'Niryo Robot Control'\n"
   ]
  },
  {
   "cell_type": "code",
   "execution_count": 3,
   "metadata": {},
   "outputs": [],
   "source": [
    "screen = pygame.display.set_mode(screen_size)\n",
    "pygame.display.set_caption(screen_title)"
   ]
  },
  {
   "cell_type": "code",
   "execution_count": 4,
   "metadata": {},
   "outputs": [
    {
     "name": "stdout",
     "output_type": "stream",
     "text": [
      "\n",
      "Connected to server (169.254.200.200) on port: 40001\n",
      "\n"
     ]
    }
   ],
   "source": [
    "robot = NiryoRobot(robot_ip_address)"
   ]
  },
  {
   "cell_type": "code",
   "execution_count": 5,
   "metadata": {},
   "outputs": [],
   "source": [
    "robot.calibrate_auto()"
   ]
  },
  {
   "cell_type": "code",
   "execution_count": 6,
   "metadata": {},
   "outputs": [],
   "source": [
    "move_speed = 0.1\n",
    "rot_speed = 0.2"
   ]
  },
  {
   "cell_type": "code",
   "execution_count": 7,
   "metadata": {},
   "outputs": [],
   "source": [
    "robot.move_to_home_pose()"
   ]
  },
  {
   "cell_type": "code",
   "execution_count": 13,
   "metadata": {},
   "outputs": [],
   "source": [
    "pose1 = PoseObject(x = 0.28, y = 0.2, z = 0.1, roll = -0.1, pitch = 0.1, yaw = -0.05)\n",
    "pose2 = PoseObject(x = 0.28, y = 0.2, z = 0.4, roll = -0.1, pitch = 0.1, yaw = -0.05)\n",
    "pose3 = PoseObject(x = 0.28, y = -0.2, z = 0.4, roll = -0.1, pitch = 0.1, yaw = -0.05)\n",
    "pose4 = PoseObject(x = 0.28, y = -0.2, z = 0.1, roll = -0.1, pitch = 0.1, yaw = -0.05)"
   ]
  },
  {
   "cell_type": "code",
   "execution_count": 12,
   "metadata": {},
   "outputs": [
    {
     "data": {
      "text/plain": [
       "x = 0.1918, y = -0.1027, z = 0.1272\n",
       "roll = -0.091, pitch = 0.117, yaw = -0.059"
      ]
     },
     "execution_count": 12,
     "metadata": {},
     "output_type": "execute_result"
    }
   ],
   "source": [
    "pose = robot.get_pose()\n",
    "pose"
   ]
  },
  {
   "cell_type": "code",
   "execution_count": 9,
   "metadata": {},
   "outputs": [
    {
     "ename": "KeyboardInterrupt",
     "evalue": "",
     "output_type": "error",
     "traceback": [
      "\u001b[1;31m---------------------------------------------------------------------------\u001b[0m",
      "\u001b[1;31mKeyboardInterrupt\u001b[0m                         Traceback (most recent call last)",
      "Cell \u001b[1;32mIn[9], line 42\u001b[0m\n\u001b[0;32m     39\u001b[0m pygame\u001b[39m.\u001b[39mdisplay\u001b[39m.\u001b[39mupdate()\n\u001b[0;32m     41\u001b[0m \u001b[39m# Wait for a short period of time to avoid overloading the robot with commands\u001b[39;00m\n\u001b[1;32m---> 42\u001b[0m time\u001b[39m.\u001b[39;49msleep(\u001b[39m0.01\u001b[39;49m)\n",
      "\u001b[1;31mKeyboardInterrupt\u001b[0m: "
     ]
    }
   ],
   "source": [
    "done = False\n",
    "while not done:\n",
    "    for event in pygame.event.get():\n",
    "        if event.type == pygame.QUIT:\n",
    "            done = True\n",
    "    pose = robot.get_pose()\n",
    "    # Get the current state of the WASD keys\n",
    "    keys = pygame.key.get_pressed()\n",
    "    if keys[pygame.K_w]:\n",
    "        pose.x +=0.045\n",
    "        robot.move_pose(pose)\n",
    "    if keys[pygame.K_s]:\n",
    "        pose.x -=0.045\n",
    "        robot.move_pose(pose)\n",
    "    if keys[pygame.K_a]:\n",
    "        pose.y +=0.045\n",
    "        robot.move_pose(pose)    \n",
    "    if keys[pygame.K_d]:\n",
    "        pose.y -=0.045\n",
    "        robot.move_pose(pose)\n",
    "    if keys[pygame.K_SPACE]:\n",
    "        pose.z +=0.045\n",
    "        robot.move_pose(pose)\n",
    "    if keys[pygame.K_LCTRL]:\n",
    "        pose.z -=0.045\n",
    "        robot.move_pose(pose)\n",
    "    if keys[pygame.K_q]:\n",
    "        pose.roll -=0.5\n",
    "        robot.move_pose(pose)\n",
    "    if keys[pygame.K_e]:\n",
    "        pose.roll +=0.5\n",
    "        robot.move_pose(pose)\n",
    "    if keys[pygame.K_o]:\n",
    "        robot.open_gripper(speed=500)\n",
    "    if keys[pygame.K_c]:\n",
    "        robot.close_gripper(speed=500)\n",
    "    # Update the screen\n",
    "    screen.fill((255, 255, 255))\n",
    "    pygame.display.update()\n",
    "\n",
    "    # Wait for a short period of time to avoid overloading the robot with commands\n",
    "    time.sleep(0.01)"
   ]
  },
  {
   "cell_type": "code",
   "execution_count": 26,
   "metadata": {},
   "outputs": [
    {
     "name": "stdout",
     "output_type": "stream",
     "text": [
      "\n",
      "Disconnected from robot\n",
      "\n"
     ]
    }
   ],
   "source": [
    "robot.close_connection()"
   ]
  },
  {
   "cell_type": "code",
   "execution_count": 16,
   "metadata": {},
   "outputs": [],
   "source": [
    "base_model = PoseObject(\n",
    "x=0.5, y=0, z=0.3,\n",
    "roll=-0, pitch=0, yaw=0\n",
    ")\n",
    "robot.move_pose(base_model)"
   ]
  },
  {
   "cell_type": "code",
   "execution_count": null,
   "metadata": {},
   "outputs": [
    {
     "data": {
      "text/plain": [
       "[-0.0007288597570993538,\n",
       " -1.2958018047396962,\n",
       " 1.2672217058481852,\n",
       " -0.0014413271980928677,\n",
       " 0.029052981380034204,\n",
       " 0.0016266343776782932]"
      ]
     },
     "execution_count": 57,
     "metadata": {},
     "output_type": "execute_result"
    }
   ],
   "source": [
    "rad = robot.get_joints()\n",
    "deg = []\n",
    "deg = math.degrees(rad)"
   ]
  },
  {
   "cell_type": "code",
   "execution_count": 6,
   "metadata": {},
   "outputs": [
    {
     "data": {
      "text/plain": [
       "[0.0, 0.0, 0.0, 0.0, 0.0, 0.0]"
      ]
     },
     "execution_count": 6,
     "metadata": {},
     "output_type": "execute_result"
    }
   ],
   "source": [
    "rad = [0,\n",
    " 0,\n",
    "0,\n",
    " 0,\n",
    " 0,\n",
    " 0]\n",
    "deg = []\n",
    "for i in rad:\n",
    "    deg.append(math.degrees(i))\n",
    "deg"
   ]
  },
  {
   "cell_type": "code",
   "execution_count": 13,
   "metadata": {},
   "outputs": [],
   "source": [
    "robot.move_joints(0, 0, 0, 0, 0, 0)"
   ]
  },
  {
   "cell_type": "code",
   "execution_count": null,
   "metadata": {},
   "outputs": [],
   "source": [
    "robot.get_pose()"
   ]
  },
  {
   "cell_type": "code",
   "execution_count": null,
   "metadata": {},
   "outputs": [],
   "source": [
    "robot.update_tool()"
   ]
  },
  {
   "cell_type": "code",
   "execution_count": 8,
   "metadata": {},
   "outputs": [],
   "source": [
    "robot.close_gripper(speed=500)"
   ]
  },
  {
   "cell_type": "code",
   "execution_count": 20,
   "metadata": {},
   "outputs": [],
   "source": [
    "robot.open_gripper(speed=500)"
   ]
  },
  {
   "cell_type": "code",
   "execution_count": 8,
   "metadata": {},
   "outputs": [],
   "source": [
    "pick_pose = PoseObject(\n",
    "x=0.1, y=0.2, z=0.4,\n",
    "roll=0, pitch=0, yaw=0\n",
    ")\n",
    "\n",
    "robot.move_pose(pick_pose)\n",
    "# robot.move_pose(pick_pose)\n"
   ]
  },
  {
   "cell_type": "code",
   "execution_count": 21,
   "metadata": {},
   "outputs": [
    {
     "data": {
      "text/plain": [
       "[-0.0007288597570993538,\n",
       " 0.49940895727663126,\n",
       " -1.2506181983468665,\n",
       " 9.265358979293481e-05,\n",
       " -0.0031606151655640957,\n",
       " 0.0016266343776782932]"
      ]
     },
     "execution_count": 21,
     "metadata": {},
     "output_type": "execute_result"
    }
   ],
   "source": [
    "joints_read = robot.get_joints()\n",
    "joints_read"
   ]
  }
 ],
 "metadata": {
  "kernelspec": {
   "display_name": "Python 3",
   "language": "python",
   "name": "python3"
  },
  "language_info": {
   "codemirror_mode": {
    "name": "ipython",
    "version": 3
   },
   "file_extension": ".py",
   "mimetype": "text/x-python",
   "name": "python",
   "nbconvert_exporter": "python",
   "pygments_lexer": "ipython3",
   "version": "3.10.10"
  },
  "orig_nbformat": 4
 },
 "nbformat": 4,
 "nbformat_minor": 2
}
