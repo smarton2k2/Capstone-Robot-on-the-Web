{
 "cells": [
  {
   "cell_type": "code",
   "execution_count": 1,
   "metadata": {},
   "outputs": [
    {
     "name": "stdout",
     "output_type": "stream",
     "text": [
      "pygame 2.5.1 (SDL 2.28.2, Python 3.9.13)\n",
      "Hello from the pygame community. https://www.pygame.org/contribute.html\n"
     ]
    }
   ],
   "source": [
    "from pyniryo import *\n",
    "import pygame\n",
    "import numpy as np\n",
    "import time\n",
    "import math\n",
    "import threading\n",
    "from azure.iot.device import IoTHubDeviceClient, Message\n",
    "import json\n",
    "import time"
   ]
  },
  {
   "cell_type": "code",
   "execution_count": 2,
   "metadata": {},
   "outputs": [],
   "source": [
    "# robot_ip_address = \"169.254.200.200\"\n",
    "robot_ip_address = \"10.10.10.10\"\n",
    "screen_size = (640, 480)\n",
    "screen_title = 'Niryo Robot Control'"
   ]
  },
  {
   "cell_type": "code",
   "execution_count": 3,
   "metadata": {},
   "outputs": [],
   "source": [
    "screen = pygame.display.set_mode(screen_size)\n",
    "pygame.display.set_caption(screen_title)"
   ]
  },
  {
   "cell_type": "code",
   "execution_count": 4,
   "metadata": {},
   "outputs": [
    {
     "name": "stdout",
     "output_type": "stream",
     "text": [
      "\n",
      "Connected to server (10.10.10.10) on port: 40001\n",
      "\n"
     ]
    }
   ],
   "source": [
    "robot = NiryoRobot(robot_ip_address)"
   ]
  },
  {
   "cell_type": "code",
   "execution_count": 5,
   "metadata": {},
   "outputs": [],
   "source": [
    "robot.calibrate_auto()"
   ]
  },
  {
   "cell_type": "code",
   "execution_count": null,
   "metadata": {},
   "outputs": [],
   "source": [
    "move_speed = 0.25\n",
    "rot_speed = 0.25"
   ]
  },
  {
   "cell_type": "code",
   "execution_count": 24,
   "metadata": {},
   "outputs": [],
   "source": [
    "robot.move_to_home_pose()"
   ]
  },
  {
   "cell_type": "code",
   "execution_count": 7,
   "metadata": {},
   "outputs": [],
   "source": [
    "device_connection_string = \"HostName=niryoiot.azure-devices.net;DeviceId=NiryoNed2;SharedAccessKey=Ee0uclVHdESQI+NPmG8z5G3ZA1ET0dkpiZ5lbyOY4Oo==\"\n",
    "device_client = IoTHubDeviceClient.create_from_connection_string(device_connection_string)\n",
    "device_client.connect()"
   ]
  },
  {
   "cell_type": "code",
   "execution_count": 8,
   "metadata": {},
   "outputs": [],
   "source": [
    "done = False\n",
    "joints = []\n",
    "previous_joints = None\n",
    "last_sent_time = 0\n",
    "message_interval = 2\n",
    "while not done:\n",
    "    for event in pygame.event.get():\n",
    "        if event.type == pygame.QUIT:\n",
    "            done = True\n",
    "    pose = robot.get_pose()\n",
    "    keys = pygame.key.get_pressed()\n",
    "    if keys[pygame.K_w]:\n",
    "        pose.x +=0.025\n",
    "        robot.move_pose(pose)\n",
    "        joints = robot.get_joints()\n",
    "    if keys[pygame.K_s]:\n",
    "        pose.x -=0.025\n",
    "        robot.move_pose(pose)\n",
    "        joints = robot.get_joints()\n",
    "    if keys[pygame.K_a]:\n",
    "        pose.y +=0.025\n",
    "        robot.move_pose(pose)\n",
    "        joints = robot.get_joints()\n",
    "    if keys[pygame.K_d]:\n",
    "        pose.y -=0.025\n",
    "        robot.move_pose(pose)\n",
    "        joints = robot.get_joints()\n",
    "    if keys[pygame.K_SPACE]:\n",
    "        pose.z +=0.025\n",
    "        robot.move_pose(pose)\n",
    "        joints = robot.get_joints()\n",
    "    if keys[pygame.K_LCTRL]:\n",
    "        pose.z -=0.025\n",
    "        robot.move_pose(pose)\n",
    "        joints = robot.get_joints()\n",
    "    if keys[pygame.K_q]:\n",
    "        pose.roll -=0.25\n",
    "        robot.move_pose(pose)\n",
    "        joints = robot.get_joints()\n",
    "    if keys[pygame.K_e]:\n",
    "        pose.roll +=0.25\n",
    "        robot.move_pose(pose)\n",
    "        joints = robot.get_joints()\n",
    "    if keys[pygame.K_o]:\n",
    "        robot.open_gripper(speed=500)\n",
    "        joints = robot.get_joints()\n",
    "    if keys[pygame.K_c]:\n",
    "        robot.close_gripper(speed=500)\n",
    "        joints = robot.get_joints()\n",
    "    if keys[pygame.K_l]:\n",
    "        done = True\n",
    "    current_time = time.time()\n",
    "    if joints != previous_joints and current_time - last_sent_time > message_interval:\n",
    "            try:\n",
    "                message = Message(json.dumps(joints))\n",
    "                device_client.send_message(message)\n",
    "                last_sent_time = current_time\n",
    "            except Exception as e:\n",
    "                print(f\"Error sending message to Azure IoT Hub: {e}\")\n",
    "            previous_joints = joints\n",
    "    \n",
    "    screen.fill((255, 255, 255))\n",
    "    pygame.display.update()\n",
    "\n",
    "    time.sleep(0.01)"
   ]
  },
  {
   "cell_type": "code",
   "execution_count": 47,
   "metadata": {},
   "outputs": [],
   "source": [
    "pose1 = [0.4, 0.0, 0.2, 0.0, 1, 0.0]\n",
    "pose2 = [0.4, 0.0, 0.2, 0.0, 1, 0.0]"
   ]
  },
  {
   "cell_type": "code",
   "execution_count": null,
   "metadata": {},
   "outputs": [],
   "source": [
    "robot.move_pose(pose2)"
   ]
  },
  {
   "cell_type": "code",
   "execution_count": 49,
   "metadata": {},
   "outputs": [
    {
     "name": "stderr",
     "output_type": "stream",
     "text": [
      "[WinError 10054] An existing connection was forcibly closed by the remote host\n"
     ]
    },
    {
     "ename": "HostNotReachableException",
     "evalue": "Unable to communicate with robot server, please verify your network.",
     "output_type": "error",
     "traceback": [
      "\u001b[1;31m---------------------------------------------------------------------------\u001b[0m",
      "\u001b[1;31mConnectionResetError\u001b[0m                      Traceback (most recent call last)",
      "File \u001b[1;32mc:\\Users\\harig\\AppData\\Local\\Programs\\Python\\Python39\\lib\\site-packages\\pyniryo\\api\\tcp_client.py:99\u001b[0m, in \u001b[0;36mNiryoRobot.__send_command\u001b[1;34m(self, command_type, *parameter_list)\u001b[0m\n\u001b[0;32m     98\u001b[0m     packet \u001b[39m=\u001b[39m dict_to_packet(ret_dict)\n\u001b[1;32m---> 99\u001b[0m     \u001b[39mself\u001b[39;49m\u001b[39m.\u001b[39;49m__client_socket\u001b[39m.\u001b[39;49msend(packet)\n\u001b[0;32m    100\u001b[0m \u001b[39mexcept\u001b[39;00m socket\u001b[39m.\u001b[39merror \u001b[39mas\u001b[39;00m e:\n",
      "\u001b[1;31mConnectionResetError\u001b[0m: [WinError 10054] An existing connection was forcibly closed by the remote host",
      "\nDuring handling of the above exception, another exception occurred:\n",
      "\u001b[1;31mHostNotReachableException\u001b[0m                 Traceback (most recent call last)",
      "\u001b[1;32md:\\My Documents\\GIT Projects\\Capstone-Robot-on-the-Web\\Niryo\\connect.ipynb Cell 12\u001b[0m line \u001b[0;36m<cell line: 1>\u001b[1;34m()\u001b[0m\n\u001b[1;32m----> <a href='vscode-notebook-cell:/d%3A/My%20Documents/GIT%20Projects/Capstone-Robot-on-the-Web/Niryo/connect.ipynb#X14sZmlsZQ%3D%3D?line=0'>1</a>\u001b[0m robot\u001b[39m.\u001b[39;49mmove_pose(pose1)\n\u001b[0;32m      <a href='vscode-notebook-cell:/d%3A/My%20Documents/GIT%20Projects/Capstone-Robot-on-the-Web/Niryo/connect.ipynb#X14sZmlsZQ%3D%3D?line=1'>2</a>\u001b[0m robot\u001b[39m.\u001b[39mmove_to_home_pose()\n",
      "File \u001b[1;32mc:\\Users\\harig\\AppData\\Local\\Programs\\Python\\Python39\\lib\\site-packages\\pyniryo\\api\\tcp_client.py:472\u001b[0m, in \u001b[0;36mNiryoRobot.move_pose\u001b[1;34m(self, *args)\u001b[0m\n\u001b[0;32m    470\u001b[0m \u001b[39melse\u001b[39;00m:\n\u001b[0;32m    471\u001b[0m     pose_list \u001b[39m=\u001b[39m \u001b[39mlist\u001b[39m(\u001b[39mself\u001b[39m\u001b[39m.\u001b[39m__args_pose_to_list(\u001b[39m*\u001b[39margs)) \u001b[39m+\u001b[39m [\u001b[39m'\u001b[39m\u001b[39m'\u001b[39m]\n\u001b[1;32m--> 472\u001b[0m \u001b[39mself\u001b[39;49m\u001b[39m.\u001b[39;49m__send_n_receive(Command\u001b[39m.\u001b[39;49mMOVE_POSE, \u001b[39m*\u001b[39;49mpose_list)\n",
      "File \u001b[1;32mc:\\Users\\harig\\AppData\\Local\\Programs\\Python\\Python39\\lib\\site-packages\\pyniryo\\api\\tcp_client.py:151\u001b[0m, in \u001b[0;36mNiryoRobot.__send_n_receive\u001b[1;34m(self, command_type, *parameter_list, **kwargs)\u001b[0m\n\u001b[0;32m    148\u001b[0m \u001b[39mdef\u001b[39;00m \u001b[39m__send_n_receive\u001b[39m(\u001b[39mself\u001b[39m, command_type, \u001b[39m*\u001b[39mparameter_list, \u001b[39m*\u001b[39m\u001b[39m*\u001b[39mkwargs):\n\u001b[0;32m    149\u001b[0m     with_payload \u001b[39m=\u001b[39m kwargs\u001b[39m.\u001b[39mget(\u001b[39m\"\u001b[39m\u001b[39mwith_payload\u001b[39m\u001b[39m\"\u001b[39m, \u001b[39mFalse\u001b[39;00m)\n\u001b[1;32m--> 151\u001b[0m     \u001b[39mself\u001b[39;49m\u001b[39m.\u001b[39;49m__send_command(command_type, \u001b[39m*\u001b[39;49mparameter_list)\n\u001b[0;32m    152\u001b[0m     \u001b[39mreturn\u001b[39;00m \u001b[39mself\u001b[39m\u001b[39m.\u001b[39m__receive_answer(with_payload\u001b[39m=\u001b[39mwith_payload)\n",
      "File \u001b[1;32mc:\\Users\\harig\\AppData\\Local\\Programs\\Python\\Python39\\lib\\site-packages\\pyniryo\\api\\tcp_client.py:102\u001b[0m, in \u001b[0;36mNiryoRobot.__send_command\u001b[1;34m(self, command_type, *parameter_list)\u001b[0m\n\u001b[0;32m    100\u001b[0m \u001b[39mexcept\u001b[39;00m socket\u001b[39m.\u001b[39merror \u001b[39mas\u001b[39;00m e:\n\u001b[0;32m    101\u001b[0m     \u001b[39mprint\u001b[39m(e, file\u001b[39m=\u001b[39msys\u001b[39m.\u001b[39mstderr)\n\u001b[1;32m--> 102\u001b[0m     \u001b[39mraise\u001b[39;00m HostNotReachableException()\n",
      "\u001b[1;31mHostNotReachableException\u001b[0m: Unable to communicate with robot server, please verify your network."
     ]
    },
    {
     "name": "stderr",
     "output_type": "stream",
     "text": [
      "failed to receive on socket: [WinError 10054] An existing connection was forcibly closed by the remote host\n"
     ]
    }
   ],
   "source": [
    "for i in range(5):\n",
    "    robot.move_pose(pose1)\n",
    "    robot.move_to_home_pose()\n",
    "    robot.move_pose(pose2)\n",
    "    robot.move_to_home_pose()"
   ]
  },
  {
   "cell_type": "code",
   "execution_count": 10,
   "metadata": {},
   "outputs": [
    {
     "name": "stdout",
     "output_type": "stream",
     "text": [
      "\n",
      "Disconnected from robot\n",
      "\n"
     ]
    },
    {
     "ename": "",
     "evalue": "",
     "output_type": "error",
     "traceback": [
      "\u001b[1;31mThe Kernel crashed while executing code in the the current cell or a previous cell. Please review the code in the cell(s) to identify a possible cause of the failure. Click <a href='https://aka.ms/vscodeJupyterKernelCrash'>here</a> for more info. View Jupyter <a href='command:jupyter.viewOutput'>log</a> for further details."
     ]
    }
   ],
   "source": [
    "robot.close_connection()\n",
    "device_client.disconnect()"
   ]
  },
  {
   "cell_type": "code",
   "execution_count": null,
   "metadata": {},
   "outputs": [],
   "source": []
  }
 ],
 "metadata": {
  "kernelspec": {
   "display_name": "Python 3",
   "language": "python",
   "name": "python3"
  },
  "language_info": {
   "codemirror_mode": {
    "name": "ipython",
    "version": 3
   },
   "file_extension": ".py",
   "mimetype": "text/x-python",
   "name": "python",
   "nbconvert_exporter": "python",
   "pygments_lexer": "ipython3",
   "version": "3.9.13"
  },
  "orig_nbformat": 4
 },
 "nbformat": 4,
 "nbformat_minor": 2
}
