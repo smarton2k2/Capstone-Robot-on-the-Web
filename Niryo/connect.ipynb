{
 "cells": [
  {
   "cell_type": "code",
   "execution_count": 3,
   "metadata": {},
   "outputs": [
    {
     "name": "stdout",
     "output_type": "stream",
     "text": [
      "pygame 2.1.0 (SDL 2.0.16, Python 3.9.13)\n",
      "Hello from the pygame community. https://www.pygame.org/contribute.html\n"
     ]
    }
   ],
   "source": [
    "from pyniryo import *\n",
    "import pygame\n",
    "import numpy as np\n",
    "import time\n",
    "import math"
   ]
  },
  {
   "cell_type": "code",
   "execution_count": 16,
   "metadata": {},
   "outputs": [],
   "source": [
    "robot_ip_address = \"10.10.10.10\"\n",
    "screen_size = (640, 480)\n",
    "screen_title = 'Niryo Robot Control'\n",
    "# robot_ip_address = \"169.254.200.200\""
   ]
  },
  {
   "cell_type": "code",
   "execution_count": 17,
   "metadata": {},
   "outputs": [],
   "source": [
    "screen = pygame.display.set_mode(screen_size)\n",
    "pygame.display.set_caption(screen_title)"
   ]
  },
  {
   "cell_type": "code",
   "execution_count": 18,
   "metadata": {},
   "outputs": [
    {
     "name": "stdout",
     "output_type": "stream",
     "text": [
      "\n",
      "Connected to server (10.10.10.10) on port: 40001\n",
      "\n"
     ]
    }
   ],
   "source": [
    "robot = NiryoRobot(robot_ip_address)"
   ]
  },
  {
   "cell_type": "code",
   "execution_count": 19,
   "metadata": {},
   "outputs": [],
   "source": [
    "robot.calibrate_auto()"
   ]
  },
  {
   "cell_type": "code",
   "execution_count": 20,
   "metadata": {},
   "outputs": [],
   "source": [
    "move_speed = 0.1\n",
    "rot_speed = 0.2"
   ]
  },
  {
   "cell_type": "code",
   "execution_count": 21,
   "metadata": {},
   "outputs": [],
   "source": [
    "robot.move_to_home_pose()"
   ]
  },
  {
   "cell_type": "code",
   "execution_count": 8,
   "metadata": {},
   "outputs": [
    {
     "data": {
      "text/plain": [
       "x = 0.1339, y = 0.0001, z = 0.1647\n",
       "roll = -0.001, pitch = 1.001, yaw = 0.001"
      ]
     },
     "execution_count": 8,
     "metadata": {},
     "output_type": "execute_result"
    }
   ],
   "source": [
    "pose = robot.get_pose()\n",
    "pose"
   ]
  },
  {
   "cell_type": "code",
   "execution_count": null,
   "metadata": {},
   "outputs": [],
   "source": [
    "done = False\n",
    "while not done:\n",
    "    for event in pygame.event.get():\n",
    "        if event.type == pygame.QUIT:\n",
    "            done = True\n",
    "    pose = robot.get_pose()\n",
    "    # Get the current state of the WASD keys\n",
    "    keys = pygame.key.get_pressed()\n",
    "    if keys[pygame.K_w]:\n",
    "        pose.x +=0.075\n",
    "        robot.move_pose(pose)\n",
    "    if keys[pygame.K_s]:\n",
    "        pose.x -=0.075\n",
    "        robot.move_pose(pose)\n",
    "    if keys[pygame.K_a]:\n",
    "        pose.y +=0.075\n",
    "        robot.move_pose(pose)    \n",
    "    if keys[pygame.K_d]:\n",
    "        pose.y -=0.075\n",
    "        robot.move_pose(pose)\n",
    "    if keys[pygame.K_SPACE]:\n",
    "        pose.z +=0.075\n",
    "        robot.move_pose(pose)\n",
    "    if keys[pygame.K_LCTRL]:\n",
    "        pose.z -=0.075\n",
    "        robot.move_pose(pose)\n",
    "    if keys[pygame.K_q]:\n",
    "        pose.roll -=0.5\n",
    "        robot.move_pose(pose)\n",
    "    if keys[pygame.K_e]:\n",
    "        pose.roll +=0.5\n",
    "        robot.move_pose(pose)\n",
    "    if keys[pygame.K_o]:\n",
    "        robot.open_gripper(speed=500)\n",
    "    if keys[pygame.K_p]:\n",
    "        robot.close_gripper(speed=500)\n",
    "    # Update the screen\n",
    "    screen.fill((255, 255, 255))\n",
    "    pygame.display.update()\n",
    "\n",
    "    # Wait for a short period of time to avoid overloading the robot with commands\n",
    "    time.sleep(0.01)"
   ]
  },
  {
   "cell_type": "code",
   "execution_count": 14,
   "metadata": {},
   "outputs": [
    {
     "name": "stdout",
     "output_type": "stream",
     "text": [
      "\n",
      "Disconnected from robot\n",
      "\n"
     ]
    }
   ],
   "source": [
    "robot.close_connection()"
   ]
  },
  {
   "cell_type": "code",
   "execution_count": 16,
   "metadata": {},
   "outputs": [],
   "source": [
    "base_model = PoseObject(\n",
    "x=0.5, y=0, z=0.25,\n",
    "roll=-0, pitch=0, yaw=0\n",
    ")\n",
    "robot.move_pose(base_model)"
   ]
  },
  {
   "cell_type": "code",
   "execution_count": null,
   "metadata": {},
   "outputs": [
    {
     "data": {
      "text/plain": [
       "[-0.0007288597570993538,\n",
       " -1.2958018047396962,\n",
       " 1.2672217058481852,\n",
       " -0.0014413271980928677,\n",
       " 0.029052981380034204,\n",
       " 0.0016266343776782932]"
      ]
     },
     "execution_count": 57,
     "metadata": {},
     "output_type": "execute_result"
    }
   ],
   "source": [
    "rad = robot.get_joints()\n",
    "deg = []\n",
    "deg = math.degrees(rad)"
   ]
  },
  {
   "cell_type": "code",
   "execution_count": 4,
   "metadata": {},
   "outputs": [
    {
     "data": {
      "text/plain": [
       "[-0.041760587938723316,\n",
       " -74.24397449701979,\n",
       " 72.60645545246967,\n",
       " -0.08258196534813768,\n",
       " 1.664613215348126,\n",
       " 0.09319928465185537]"
      ]
     },
     "execution_count": 4,
     "metadata": {},
     "output_type": "execute_result"
    }
   ],
   "source": [
    "rad = [-0.0007288597570993538,\n",
    " -1.2958018047396962,\n",
    " 1.2672217058481852,\n",
    " -0.0014413271980928677,\n",
    " 0.029052981380034204,\n",
    " 0.0016266343776782932]\n",
    "deg = []\n",
    "for i in rad:\n",
    "    deg.append(math.degrees(i))\n",
    "deg"
   ]
  },
  {
   "cell_type": "code",
   "execution_count": 13,
   "metadata": {},
   "outputs": [],
   "source": [
    "robot.move_joints(0, 0, 0, 0, 0, 0)"
   ]
  },
  {
   "cell_type": "code",
   "execution_count": null,
   "metadata": {},
   "outputs": [],
   "source": [
    "robot.get_pose()"
   ]
  },
  {
   "cell_type": "code",
   "execution_count": null,
   "metadata": {},
   "outputs": [],
   "source": [
    "robot.update_tool()"
   ]
  },
  {
   "cell_type": "code",
   "execution_count": 8,
   "metadata": {},
   "outputs": [],
   "source": [
    "robot.close_gripper(speed=500)"
   ]
  },
  {
   "cell_type": "code",
   "execution_count": 20,
   "metadata": {},
   "outputs": [],
   "source": [
    "robot.open_gripper(speed=500)"
   ]
  },
  {
   "cell_type": "code",
   "execution_count": 8,
   "metadata": {},
   "outputs": [],
   "source": [
    "pick_pose = PoseObject(\n",
    "x=0.1, y=0.2, z=0.4,\n",
    "roll=0, pitch=0, yaw=0\n",
    ")\n",
    "\n",
    "robot.move_pose(pick_pose)\n",
    "# robot.move_pose(pick_pose)\n"
   ]
  },
  {
   "cell_type": "code",
   "execution_count": 21,
   "metadata": {},
   "outputs": [
    {
     "data": {
      "text/plain": [
       "[-0.0007288597570993538,\n",
       " 0.49940895727663126,\n",
       " -1.2506181983468665,\n",
       " 9.265358979293481e-05,\n",
       " -0.0031606151655640957,\n",
       " 0.0016266343776782932]"
      ]
     },
     "execution_count": 21,
     "metadata": {},
     "output_type": "execute_result"
    }
   ],
   "source": [
    "joints_read = robot.get_joints()\n",
    "joints_read"
   ]
  },
  {
   "cell_type": "code",
   "execution_count": null,
   "metadata": {},
   "outputs": [],
   "source": []
  }
 ],
 "metadata": {
  "kernelspec": {
   "display_name": "Python 3",
   "language": "python",
   "name": "python3"
  },
  "language_info": {
   "codemirror_mode": {
    "name": "ipython",
    "version": 3
   },
   "file_extension": ".py",
   "mimetype": "text/x-python",
   "name": "python",
   "nbconvert_exporter": "python",
   "pygments_lexer": "ipython3",
   "version": "3.9.13"
  },
  "orig_nbformat": 4
 },
 "nbformat": 4,
 "nbformat_minor": 2
}
