{
 "cells": [
  {
   "cell_type": "code",
   "execution_count": 1,
   "metadata": {},
   "outputs": [
    {
     "name": "stdout",
     "output_type": "stream",
     "text": [
      "pygame 2.5.1 (SDL 2.28.2, Python 3.9.13)\n",
      "Hello from the pygame community. https://www.pygame.org/contribute.html\n"
     ]
    }
   ],
   "source": [
    "from pyniryo import *\n",
    "import pygame\n",
    "import numpy as np\n",
    "import time\n",
    "import math\n",
    "import threading\n",
    "from azure.iot.device import IoTHubDeviceClient, Message\n",
    "import json\n",
    "import time"
   ]
  },
  {
   "cell_type": "code",
   "execution_count": 2,
   "metadata": {},
   "outputs": [],
   "source": [
    "# robot_ip_address = \"169.254.200.200\"\n",
    "robot_ip_address = \"10.10.10.10\"\n",
    "screen_size = (640, 480)\n",
    "screen_title = 'Niryo Robot Control'"
   ]
  },
  {
   "cell_type": "code",
   "execution_count": 3,
   "metadata": {},
   "outputs": [],
   "source": [
    "screen = pygame.display.set_mode(screen_size)\n",
    "pygame.display.set_caption(screen_title)"
   ]
  },
  {
   "cell_type": "code",
   "execution_count": 4,
   "metadata": {},
   "outputs": [
    {
     "name": "stdout",
     "output_type": "stream",
     "text": [
      "\n",
      "Connected to server (10.10.10.10) on port: 40001\n",
      "\n"
     ]
    }
   ],
   "source": [
    "robot = NiryoRobot(robot_ip_address)"
   ]
  },
  {
   "cell_type": "code",
   "execution_count": 8,
   "metadata": {},
   "outputs": [],
   "source": [
    "robot.calibrate_auto()"
   ]
  },
  {
   "cell_type": "code",
   "execution_count": 9,
   "metadata": {},
   "outputs": [],
   "source": [
    "move_speed = 0.25\n",
    "rot_speed = 0.25"
   ]
  },
  {
   "cell_type": "code",
   "execution_count": 10,
   "metadata": {},
   "outputs": [],
   "source": [
    "robot.move_to_home_pose()"
   ]
  },
  {
   "cell_type": "code",
   "execution_count": 11,
   "metadata": {},
   "outputs": [],
   "source": [
    "device_connection_string = \"HostName=niryoiot.azure-devices.net;DeviceId=NiryoNed2;SharedAccessKey=Ee0uclVHdESQI+NPmG8z5G3ZA1ET0dkpiZ5lbyOY4Oo==\"\n",
    "device_client = IoTHubDeviceClient.create_from_connection_string(device_connection_string)\n",
    "device_client.connect()"
   ]
  },
  {
   "cell_type": "code",
   "execution_count": 12,
   "metadata": {},
   "outputs": [],
   "source": [
    "done = False\n",
    "joints = []\n",
    "previous_joints = None\n",
    "last_sent_time = 0\n",
    "message_interval = 2\n",
    "while not done:\n",
    "    for event in pygame.event.get():\n",
    "        if event.type == pygame.QUIT:\n",
    "            done = True\n",
    "    pose = robot.get_pose()\n",
    "    keys = pygame.key.get_pressed()\n",
    "    if keys[pygame.K_w]:\n",
    "        pose.x +=0.045\n",
    "        robot.move_pose(pose)\n",
    "        joints = robot.get_joints()\n",
    "    if keys[pygame.K_s]:\n",
    "        pose.x -=0.045\n",
    "        robot.move_pose(pose)\n",
    "        joints = robot.get_joints()\n",
    "    if keys[pygame.K_a]:\n",
    "        pose.y +=0.045\n",
    "        robot.move_pose(pose)\n",
    "        joints = robot.get_joints()\n",
    "    if keys[pygame.K_d]:\n",
    "        pose.y -=0.045\n",
    "        robot.move_pose(pose)\n",
    "        joints = robot.get_joints()\n",
    "    if keys[pygame.K_SPACE]:\n",
    "        pose.z +=0.045\n",
    "        robot.move_pose(pose)\n",
    "        joints = robot.get_joints()\n",
    "    if keys[pygame.K_LCTRL]:\n",
    "        pose.z -=0.045\n",
    "        robot.move_pose(pose)\n",
    "        joints = robot.get_joints()\n",
    "    if keys[pygame.K_q]:\n",
    "        pose.roll -=0.5\n",
    "        robot.move_pose(pose)\n",
    "        joints = robot.get_joints()\n",
    "    if keys[pygame.K_e]:\n",
    "        pose.roll +=0.5\n",
    "        robot.move_pose(pose)\n",
    "        joints = robot.get_joints()\n",
    "    if keys[pygame.K_o]:\n",
    "        robot.open_gripper(speed=500)\n",
    "        joints = robot.get_joints()\n",
    "    if keys[pygame.K_c]:\n",
    "        robot.close_gripper(speed=500)\n",
    "        joints = robot.get_joints()\n",
    "    if keys[pygame.K_l]:\n",
    "        done = True\n",
    "\n",
    "    current_time = time.time()\n",
    "    if joints != previous_joints and current_time - last_sent_time > message_interval:\n",
    "            try:\n",
    "                message = Message(json.dumps(joints))\n",
    "                device_client.send_message(message)\n",
    "                last_sent_time = current_time\n",
    "            except Exception as e:\n",
    "                print(f\"Error sending message to Azure IoT Hub: {e}\")\n",
    "            previous_joints = joints\n",
    "    \n",
    "    screen.fill((255, 255, 255))\n",
    "    pygame.display.update()\n",
    "\n",
    "    time.sleep(0.01)"
   ]
  },
  {
   "cell_type": "code",
   "execution_count": 5,
   "metadata": {},
   "outputs": [
    {
     "name": "stdout",
     "output_type": "stream",
     "text": [
      "\n",
      "Disconnected from robot\n",
      "\n"
     ]
    },
    {
     "ename": "NameError",
     "evalue": "name 'device_client' is not defined",
     "output_type": "error",
     "traceback": [
      "\u001b[1;31m---------------------------------------------------------------------------\u001b[0m",
      "\u001b[1;31mNameError\u001b[0m                                 Traceback (most recent call last)",
      "\u001b[1;32md:\\My Documents\\GIT Projects\\Capstone-Robot-on-the-Web\\Niryo\\connect.ipynb Cell 10\u001b[0m line \u001b[0;36m<cell line: 2>\u001b[1;34m()\u001b[0m\n\u001b[0;32m      <a href='vscode-notebook-cell:/d%3A/My%20Documents/GIT%20Projects/Capstone-Robot-on-the-Web/Niryo/connect.ipynb#X12sZmlsZQ%3D%3D?line=0'>1</a>\u001b[0m robot\u001b[39m.\u001b[39mclose_connection()\n\u001b[1;32m----> <a href='vscode-notebook-cell:/d%3A/My%20Documents/GIT%20Projects/Capstone-Robot-on-the-Web/Niryo/connect.ipynb#X12sZmlsZQ%3D%3D?line=1'>2</a>\u001b[0m device_client\u001b[39m.\u001b[39mdisconnect()\n",
      "\u001b[1;31mNameError\u001b[0m: name 'device_client' is not defined"
     ]
    }
   ],
   "source": [
    "robot.close_connection()\n",
    "device_client.disconnect()"
   ]
  },
  {
   "cell_type": "code",
   "execution_count": null,
   "metadata": {},
   "outputs": [],
   "source": []
  }
 ],
 "metadata": {
  "kernelspec": {
   "display_name": "Python 3",
   "language": "python",
   "name": "python3"
  },
  "language_info": {
   "codemirror_mode": {
    "name": "ipython",
    "version": 3
   },
   "file_extension": ".py",
   "mimetype": "text/x-python",
   "name": "python",
   "nbconvert_exporter": "python",
   "pygments_lexer": "ipython3",
   "version": "3.9.13"
  },
  "orig_nbformat": 4
 },
 "nbformat": 4,
 "nbformat_minor": 2
}
